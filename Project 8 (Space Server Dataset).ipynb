{
 "cells": [
  {
   "cell_type": "code",
   "execution_count": null,
   "metadata": {},
   "outputs": [],
   "source": [
    "# Importing the required libraries\n",
    "\n",
    "import pandas as pd\n",
    "import numpy as np\n",
    "import matplotlib.pyplot as plt\n",
    "import seaborn as sns\n",
    "import warnings\n",
    "warnings.simplefilter('ignore')\n",
    "%matplotlib inline"
   ]
  },
  {
   "cell_type": "code",
   "execution_count": null,
   "metadata": {},
   "outputs": [],
   "source": [
    "# load the datset in the notbook environment\n",
    "\n",
    "df = pd.read_csv(\"Project 8 (Space Server Dataset).csv\")\n",
    "df.head()"
   ]
  },
  {
   "cell_type": "markdown",
   "metadata": {},
   "source": [
    "class column is the perfect target for classification practices! Hence we will procees with this problem statement"
   ]
  },
  {
   "cell_type": "code",
   "execution_count": null,
   "metadata": {},
   "outputs": [],
   "source": [
    "# Dimension of the dataset\n",
    "\n",
    "df.shape"
   ]
  },
  {
   "cell_type": "code",
   "execution_count": null,
   "metadata": {},
   "outputs": [],
   "source": [
    "#Checking for NA values, and there are none.\n",
    "df.isnull().sum()"
   ]
  },
  {
   "cell_type": "markdown",
   "metadata": {},
   "source": [
    "This dataset has 7558 records in 18 columns"
   ]
  },
  {
   "cell_type": "code",
   "execution_count": null,
   "metadata": {},
   "outputs": [],
   "source": [
    "# Some informations regarding the data types and null valus present.\n",
    "\n",
    "df.info()"
   ]
  },
  {
   "cell_type": "markdown",
   "metadata": {},
   "source": [
    "We can see here that there is no missing values in the datset. All the column excpet class are numerical columns."
   ]
  },
  {
   "cell_type": "code",
   "execution_count": null,
   "metadata": {},
   "outputs": [],
   "source": [
    "df['class'].value_counts()"
   ]
  },
  {
   "cell_type": "code",
   "execution_count": null,
   "metadata": {},
   "outputs": [],
   "source": [
    "# label encode class column\n",
    "from sklearn.preprocessing import LabelEncoder\n",
    "df['class'] = LabelEncoder().fit_transform(df['class'])\n",
    "df.head()"
   ]
  },
  {
   "cell_type": "code",
   "execution_count": null,
   "metadata": {},
   "outputs": [],
   "source": [
    "# Lets look at the values present in 'run','rerun','camcol','class'\n",
    "\n",
    "for each in ['run','rerun','camcol']:\n",
    "    print(f\"{each}\", df[each].unique())"
   ]
  },
  {
   "cell_type": "code",
   "execution_count": null,
   "metadata": {},
   "outputs": [],
   "source": [
    "# Lets find the correlation in the dataframe\n",
    "\n",
    "corr = df.corr()\n",
    "plt.figure(figsize=(18,8))\n",
    "plt.title('Heatmap Project 8 (Space Server Dataset)')\n",
    "sns.heatmap(corr,annot=True)# fmt='.02%')\n",
    "plt.show()"
   ]
  },
  {
   "cell_type": "code",
   "execution_count": null,
   "metadata": {},
   "outputs": [],
   "source": [
    "# Statistical summary of Space Server Dataset)\n",
    "\n",
    "df.describe()"
   ]
  },
  {
   "cell_type": "code",
   "execution_count": null,
   "metadata": {},
   "outputs": [],
   "source": [
    "df[df['rerun'] != 301]"
   ]
  },
  {
   "cell_type": "markdown",
   "metadata": {},
   "source": [
    "Since rerun and objid has common value for each rcord, its better to drop it. "
   ]
  },
  {
   "cell_type": "code",
   "execution_count": null,
   "metadata": {},
   "outputs": [],
   "source": [
    "df.drop(['rerun','objid','specobjid'], inplace=True, axis=1)\n",
    "df.head()"
   ]
  },
  {
   "cell_type": "code",
   "execution_count": null,
   "metadata": {},
   "outputs": [],
   "source": [
    "df.columns"
   ]
  },
  {
   "cell_type": "markdown",
   "metadata": {},
   "source": [
    "# Visualization and Data cleaning/Formating"
   ]
  },
  {
   "cell_type": "code",
   "execution_count": null,
   "metadata": {},
   "outputs": [],
   "source": [
    "# Density plot for ra column\n",
    "sns.distplot(df['ra'],hist = False, kde = True, kde_kws = {'shade': True, 'linewidth': 3}, label = 'ra')\n",
    "plt.show()"
   ]
  },
  {
   "cell_type": "code",
   "execution_count": null,
   "metadata": {},
   "outputs": [],
   "source": [
    "sns.distplot(df['dec'],hist = False, kde = True, kde_kws = {'shade': True, 'linewidth': 3}, label = 'dec')\n",
    "plt.show()"
   ]
  },
  {
   "cell_type": "code",
   "execution_count": null,
   "metadata": {},
   "outputs": [],
   "source": [
    "sns.distplot(df['u'],hist = False, kde = True, kde_kws = {'shade': True, 'linewidth': 3}, label = 'u')\n",
    "plt.show()"
   ]
  },
  {
   "cell_type": "code",
   "execution_count": null,
   "metadata": {},
   "outputs": [],
   "source": [
    "sns.distplot(df['g'],hist = False, kde = True, kde_kws = {'shade': True, 'linewidth': 3}, label = 'g')\n",
    "plt.show()"
   ]
  },
  {
   "cell_type": "code",
   "execution_count": null,
   "metadata": {},
   "outputs": [],
   "source": [
    "sns.distplot(df['r'],hist = False, kde = True, kde_kws = {'shade': True, 'linewidth': 3}, label = 'r')\n",
    "plt.show()"
   ]
  },
  {
   "cell_type": "code",
   "execution_count": null,
   "metadata": {},
   "outputs": [],
   "source": [
    "sns.distplot(df['i'],hist = False, kde = True, kde_kws = {'shade': True, 'linewidth': 3}, label = 'i')\n",
    "plt.show()"
   ]
  },
  {
   "cell_type": "code",
   "execution_count": null,
   "metadata": {},
   "outputs": [],
   "source": [
    "sns.distplot(df['z'],hist = False, kde = True, kde_kws = {'shade': True, 'linewidth': 3}, label = 'z')\n",
    "plt.show()"
   ]
  },
  {
   "cell_type": "code",
   "execution_count": null,
   "metadata": {},
   "outputs": [],
   "source": [
    "df.head(1)"
   ]
  },
  {
   "cell_type": "code",
   "execution_count": null,
   "metadata": {},
   "outputs": [],
   "source": [
    "sns.distplot(df['run'],hist = False, kde = True, kde_kws = {'shade': True, 'linewidth': 3}, label = 'run')\n",
    "plt.show()"
   ]
  },
  {
   "cell_type": "code",
   "execution_count": null,
   "metadata": {},
   "outputs": [],
   "source": [
    "sns.distplot(df['camcol'],hist = False, kde = True, kde_kws = {'shade': True, 'linewidth': 3}, label = 'camcol')\n",
    "plt.show()"
   ]
  },
  {
   "cell_type": "code",
   "execution_count": null,
   "metadata": {},
   "outputs": [],
   "source": [
    "sns.distplot(df['field'],hist = False, kde = True, kde_kws = {'shade': True, 'linewidth': 3}, label = 'field')\n",
    "plt.show()"
   ]
  },
  {
   "cell_type": "code",
   "execution_count": null,
   "metadata": {},
   "outputs": [],
   "source": [
    "sns.distplot(df['plate'],hist = False, kde = True, kde_kws = {'shade': True, 'linewidth': 3}, label = 'plate')\n",
    "plt.show()"
   ]
  },
  {
   "cell_type": "code",
   "execution_count": null,
   "metadata": {},
   "outputs": [],
   "source": [
    "sns.distplot(df['mjd'],hist = False, kde = True, kde_kws = {'shade': True, 'linewidth': 3}, label = 'mjd')\n",
    "plt.show()"
   ]
  },
  {
   "cell_type": "code",
   "execution_count": null,
   "metadata": {},
   "outputs": [],
   "source": [
    "sns.distplot(df['fiberid'],hist = False, kde = True, kde_kws = {'shade': True, 'linewidth': 3}, label = 'fiberid')\n",
    "plt.show()"
   ]
  },
  {
   "cell_type": "code",
   "execution_count": null,
   "metadata": {},
   "outputs": [],
   "source": [
    "df.skew()"
   ]
  },
  {
   "cell_type": "code",
   "execution_count": null,
   "metadata": {},
   "outputs": [],
   "source": [
    "# removig skewness for column ra\n",
    "df['ra'] = np.sqrt(df['class'])\n",
    "df['class'].skew()"
   ]
  },
  {
   "cell_type": "code",
   "execution_count": null,
   "metadata": {},
   "outputs": [],
   "source": [
    "sns.distplot(df['ra'],hist = False, kde = True, kde_kws = {'shade': True, 'linewidth': 3}, label = 'ra')\n",
    "plt.show()"
   ]
  },
  {
   "cell_type": "code",
   "execution_count": null,
   "metadata": {},
   "outputs": [],
   "source": [
    "# removig skewness for column dec\n",
    "df['dec'] = np.sqrt(df['dec'])\n",
    "print(df['dec'].skew())\n",
    "sns.distplot(df['dec'],hist = False, kde = True, kde_kws = {'shade': True, 'linewidth': 3}, label = 'dec')\n",
    "plt.show()"
   ]
  },
  {
   "cell_type": "code",
   "execution_count": null,
   "metadata": {},
   "outputs": [],
   "source": [
    "# removig skewness for column u\n",
    "from scipy import stats\n",
    "df['u'] = stats.boxcox(df['u'])[0]\n",
    "print(df['u'].skew())\n",
    "sns.distplot(df['u'],hist = False, kde = True, kde_kws = {'shade': True, 'linewidth': 3}, label = 'u')\n",
    "plt.show()"
   ]
  },
  {
   "cell_type": "code",
   "execution_count": null,
   "metadata": {},
   "outputs": [],
   "source": [
    "# removig skewness for column plate\n",
    "#from scipy import stats\n",
    "df['plate'] = np.log(df['plate'])\n",
    "print(df['plate'].skew())\n",
    "sns.distplot(df['plate'],hist = False, kde = True, kde_kws = {'shade': True, 'linewidth': 3}, label = 'plate')\n",
    "plt.show()"
   ]
  },
  {
   "cell_type": "code",
   "execution_count": null,
   "metadata": {},
   "outputs": [],
   "source": [
    "# removig skewness for column mjd\n",
    "#from scipy import stats\n",
    "df['mjd'] = np.log(df['mjd'])\n",
    "print(df['mjd'].skew())\n",
    "sns.distplot(df['mjd'],hist = False, kde = True, kde_kws = {'shade': True, 'linewidth': 3}, label = 'mjd')\n",
    "plt.show()"
   ]
  },
  {
   "cell_type": "markdown",
   "metadata": {},
   "source": [
    "Finding the best random state to find the divide x and y into test and train dataset"
   ]
  },
  {
   "cell_type": "code",
   "execution_count": null,
   "metadata": {},
   "outputs": [],
   "source": [
    "# x as dataframe with independent variables\n",
    "x = df.drop('class',axis=1)\n",
    "x.head()"
   ]
  },
  {
   "cell_type": "code",
   "execution_count": null,
   "metadata": {},
   "outputs": [],
   "source": [
    "# y as dependent\n",
    "y = df['class']\n",
    "y.head()"
   ]
  },
  {
   "cell_type": "code",
   "execution_count": null,
   "metadata": {},
   "outputs": [],
   "source": []
  },
  {
   "cell_type": "code",
   "execution_count": null,
   "metadata": {},
   "outputs": [],
   "source": [
    "from sklearn.model_selection import train_test_split\n",
    "from sklearn.metrics import accuracy_score\n",
    "from sklearn.linear_model import LogisticRegression"
   ]
  },
  {
   "cell_type": "code",
   "execution_count": null,
   "metadata": {},
   "outputs": [],
   "source": [
    "df.head()"
   ]
  },
  {
   "cell_type": "code",
   "execution_count": null,
   "metadata": {},
   "outputs": [],
   "source": [
    "random_state=0\n",
    "accu=0\n",
    "\n",
    "for i in range(30,200):\n",
    "    x_train,x_test,y_train,y_test=train_test_split(x,y,test_size=.20,random_state=i)\n",
    "    lg = LogisticRegression()\n",
    "    lg.fit(x_train,y_train)\n",
    "    y_pred = lg.predict(x_test)\n",
    "    tempaccu = accuracy_score(y_pred,y_test)\n",
    "    if tempaccu > accu:\n",
    "        accu = tempaccu\n",
    "        random_state = i\n",
    "print(f\"Best Accuracy {accu*100} found on Random state {random_state}\")"
   ]
  },
  {
   "cell_type": "code",
   "execution_count": null,
   "metadata": {},
   "outputs": [],
   "source": [
    "from sklearn.linear_model import LogisticRegression\n",
    "from sklearn.metrics import classification_report\n",
    "from sklearn.ensemble import RandomForestClassifier\n",
    "from sklearn.linear_model import SGDClassifier\n",
    "from sklearn.tree import DecisionTreeClassifier\n",
    "from sklearn.neighbors import KNeighborsClassifier\n",
    "from sklearn.naive_bayes import GaussianNB"
   ]
  },
  {
   "cell_type": "code",
   "execution_count": null,
   "metadata": {},
   "outputs": [],
   "source": [
    "algo = [LogisticRegression,RandomForestClassifier,SGDClassifier,DecisionTreeClassifier,\n",
    "        KNeighborsClassifier,GaussianNB]\n",
    "\n",
    "for each in algo:\n",
    "    model = each()\n",
    "    model.fit(x_train,y_train)\n",
    "    y_pred = model.predict(x_test)\n",
    "    print(f\"{model}\\n\",classification_report(y_test, y_pred))\n",
    "    print(\"\\n\")"
   ]
  },
  {
   "cell_type": "code",
   "execution_count": null,
   "metadata": {},
   "outputs": [],
   "source": []
  },
  {
   "cell_type": "code",
   "execution_count": null,
   "metadata": {},
   "outputs": [],
   "source": []
  },
  {
   "cell_type": "code",
   "execution_count": null,
   "metadata": {},
   "outputs": [],
   "source": []
  },
  {
   "cell_type": "code",
   "execution_count": null,
   "metadata": {},
   "outputs": [],
   "source": []
  }
 ],
 "metadata": {
  "kernelspec": {
   "display_name": "Python 3",
   "language": "python",
   "name": "python3"
  },
  "language_info": {
   "codemirror_mode": {
    "name": "ipython",
    "version": 3
   },
   "file_extension": ".py",
   "mimetype": "text/x-python",
   "name": "python",
   "nbconvert_exporter": "python",
   "pygments_lexer": "ipython3",
   "version": "3.7.6"
  }
 },
 "nbformat": 4,
 "nbformat_minor": 4
}
