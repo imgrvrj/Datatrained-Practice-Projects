{
 "cells": [
  {
   "cell_type": "markdown",
   "metadata": {},
   "source": [
    "UnitedStates_COVID_19_dataset\n",
    "\n",
    "\n",
    "This is the data repository for the 2019 Novel Coronavirus Visual Dashboard operated by the Johns Hopkins University Center for Systems Science and Engineering (JHU CSSE). Also, Supported by ESRI Living Atlas Team and the Johns Hopkins University Applied Physics Lab (JHU APL).\n",
    "\n",
    "\n",
    "Coronavirus is a family of viruses that can cause illness, which can vary from common cold and cough to sometimes more severe disease. Middle East Respiratory Syndrome (MERS-CoV) and Severe Acute Respiratory Syndrome (SARS-CoV) were such severe cases with the world already has faced. SARS-CoV-2 (n-coronavirus) is the new virus of the coronavirus family, which first discovered in 2019, which has not been identified in humans before. It is a contiguous virus which started from Wuhan in December 2019. Which later declared as Pandemic by WHO due to high rate spreads throughout the world. Currently (on the date 20 May 2020), this leads to a total of 300K+ Deaths across the globe, including 90K+ deaths alone in USA.The dataset  is provided to identify the deaths and recovered cases.\n",
    "\n",
    "\n",
    "\n",
    "https://github.com/dsrscientist/COVID_19_Datasets/blob/master/csse_covid_19_daily_reports_us.csv\n",
    "\n",
    "\n",
    "\n",
    "USA daily state reports (csse_covid_19_daily_reports_us)\n",
    "\n",
    "\n",
    "\n",
    "This table contains an aggregation of each USA State level data. \n",
    "\n",
    "\n",
    "\n",
    "File naming convention\n",
    "\n",
    "\n",
    "Field description\n",
    "\n",
    "\n",
    "Province_State - The name of the State within the USA.\n",
    "\n",
    "\n",
    "Country_Region - The name of the Country (US).\n",
    "\n",
    "\n",
    "Last_Update - The most recent date the file was pushed.\n",
    "\n",
    "\n",
    "Lat - Latitude.\n",
    "\n",
    "\n",
    "Long_ - Longitude.\n",
    "\n",
    "\n",
    "Confirmed - Aggregated confirmed case count for the state.\n",
    "\n",
    "\n",
    "Deaths - Aggregated Death case count for the state.\n",
    "\n",
    "\n",
    "Recovered - Aggregated Recovered case count for the state.\n",
    "\n",
    "\n",
    "Active - Aggregated confirmed cases that have not been resolved (Active = Confirmed - Recovered - Deaths).\n",
    "\n",
    "\n",
    "FIPS - Federal Information Processing Standards code that uniquely identifies counties within the USA.\n",
    "\n",
    "\n",
    "Incident_Rate - confirmed cases per 100,000 persons.\n",
    "\n",
    "\n",
    "People_Tested - Total number of people who have been tested.\n",
    "\n",
    "\n",
    "People_Hospitalized - Total number of people hospitalized.\n",
    "\n",
    "\n",
    "Mortality_Rate - Number recorded deaths * 100/ Number confirmed cases.\n",
    "\n",
    "\n",
    "UID - Unique Identifier for each row entry.\n",
    "\n",
    "\n",
    "ISO3 - Officialy assigned country code identifiers.\n",
    "\n",
    "\n",
    "Testing_Rate - Total number of people tested per 100,000 persons.\n",
    "\n",
    "\n",
    "Hospitalization_Rate - Total number of people hospitalized * 100/ Number of confirmed cases.\n",
    "\n",
    "\n",
    "\n",
    "\n",
    "\n",
    "\n",
    "Field description\n",
    "\n",
    "\n",
    "FIPS: US only. Federal Information Processing Standards code that uniquely identifies counties within the USA.\n",
    "\n",
    "\n",
    "Admin2: County name. US only.\n",
    "\n",
    "\n",
    "Province_State: Province, state or dependency name.\n",
    "\n",
    "\n",
    "Country_Region: Country, region or sovereignty name. The names of locations included on the Website correspond with the \n",
    "\n",
    "\n",
    "official designations used by the U.S. Department of State.\n",
    "\n",
    "\n",
    "Last Update: MM/DD/YYYY HH:mm:ss (24 hour format, in UTC).\n",
    "\n",
    "\n",
    "Lat and Long_: Dot locations on the dashboard. All points (except for Australia) shown on the map are based on geographic \n",
    "\n",
    "\n",
    "centroids, and are not representative of a specific address, building or any location at a spatial scale finer than a \n",
    "\n",
    "\n",
    "province/state. Australian dots are located at the centroid of the largest city in each state.\n",
    "\n",
    "\n",
    "Confirmed: Confirmed cases include presumptive positive cases and probable cases, in accordance with CDC guidelines as of April \n",
    "14.\n",
    "\n",
    "\n",
    "Deaths: Death totals in the US include confirmed and probable, in accordance with CDC guidelines as of April 14.\n",
    "\n",
    "\n",
    "Recovered: Recovered cases outside China are estimates based on local media reports, and state and local reporting when available, and therefore may be substantially lower than the true number. US state-level recovered cases are from COVID Tracking Project.\n",
    "\n",
    "\n",
    "Active: Active cases = total confirmed - total recovered - total deaths.\n",
    "\n",
    "\n",
    "Incidence_Rate: Admin2 + Province_State + Country_Region.\n",
    "\n",
    "\n",
    "Case-Fatality Ratio (%): = confirmed cases per 100,000 persons.\n",
    "\n",
    "\n",
    "US Testing Rate: = total test results per 100,000 persons. The \"total test results\" is equal to \"Total test results (Positive + Negative)\" from COVID Tracking Project.\n",
    "\n",
    "\n",
    "US Hospitalization Rate (%): = Total number hospitalized / Number confirmed cases. The \"Total number hospitalized\" is the \n",
    "\"Hospitalized – Cumulative\" count from COVID Tracking Project. The \"hospitalization rate\" and \"hospitalized - Cumulative\" data is only presented for those states which provide cumulative hospital data."
   ]
  },
  {
   "cell_type": "code",
   "execution_count": null,
   "metadata": {},
   "outputs": [],
   "source": [
    "# Importing the required libraries\n",
    "\n",
    "import pandas as pd\n",
    "import numpy as np\n",
    "import matplotlib.pyplot as plt\n",
    "import seaborn as sns\n",
    "import warnings\n",
    "warnings.simplefilter('ignore')\n",
    "%matplotlib inline"
   ]
  },
  {
   "cell_type": "code",
   "execution_count": null,
   "metadata": {},
   "outputs": [],
   "source": [
    "# load the datset in the notbook environment\n",
    "\n",
    "df = pd.read_csv(\"Project 9 (COVID 19 Dataset).csv\")\n",
    "df.head()"
   ]
  },
  {
   "cell_type": "code",
   "execution_count": null,
   "metadata": {},
   "outputs": [],
   "source": [
    "df.drop(['Last_Update','Lat','Long_','Country_Region','FIPS','UID'],inplace=True,axis=1)\n",
    "df.head()"
   ]
  },
  {
   "cell_type": "code",
   "execution_count": null,
   "metadata": {},
   "outputs": [],
   "source": [
    "df.info()"
   ]
  },
  {
   "cell_type": "code",
   "execution_count": null,
   "metadata": {},
   "outputs": [],
   "source": [
    "df.describe()"
   ]
  },
  {
   "cell_type": "code",
   "execution_count": null,
   "metadata": {},
   "outputs": [],
   "source": [
    "df.isnull().sum()"
   ]
  },
  {
   "cell_type": "code",
   "execution_count": null,
   "metadata": {},
   "outputs": [],
   "source": [
    "df['Recovered'].fillna(df['Recovered'].mean(), inplace=True)\n",
    "df['Incident_Rate'].fillna(df['Incident_Rate'].mean(), inplace=True)\n",
    "df['People_Tested'].fillna(df['People_Tested'].mean(), inplace=True)\n",
    "df['People_Hospitalized'].fillna(df['People_Hospitalized'].mean(), inplace=True)\n",
    "df['Mortality_Rate'].fillna(df['Mortality_Rate'].mean(), inplace=True)\n",
    "df['Testing_Rate'].fillna(df['Testing_Rate'].mean(), inplace=True)\n",
    "df['Hospitalization_Rate'].fillna(df['Hospitalization_Rate'].mean(), inplace=True)\n",
    "df.isnull().sum()"
   ]
  },
  {
   "cell_type": "code",
   "execution_count": null,
   "metadata": {},
   "outputs": [],
   "source": [
    "plt.figure(figsize=(15,7))\n",
    "sns.heatmap(df.corr(), annot=True, linewidths=0.5, linecolor='black', fmt='.2f')\n",
    "plt.show()"
   ]
  },
  {
   "cell_type": "code",
   "execution_count": null,
   "metadata": {},
   "outputs": [],
   "source": [
    "# check for skewness\n",
    "df.skew()"
   ]
  },
  {
   "cell_type": "code",
   "execution_count": null,
   "metadata": {},
   "outputs": [],
   "source": [
    "df.head()"
   ]
  },
  {
   "cell_type": "code",
   "execution_count": null,
   "metadata": {},
   "outputs": [],
   "source": []
  }
 ],
 "metadata": {
  "kernelspec": {
   "display_name": "Python 3",
   "language": "python",
   "name": "python3"
  },
  "language_info": {
   "codemirror_mode": {
    "name": "ipython",
    "version": 3
   },
   "file_extension": ".py",
   "mimetype": "text/x-python",
   "name": "python",
   "nbconvert_exporter": "python",
   "pygments_lexer": "ipython3",
   "version": "3.7.6"
  }
 },
 "nbformat": 4,
 "nbformat_minor": 4
}
